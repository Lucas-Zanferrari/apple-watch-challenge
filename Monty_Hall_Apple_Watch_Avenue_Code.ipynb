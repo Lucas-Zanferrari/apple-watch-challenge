{
  "nbformat": 4,
  "nbformat_minor": 0,
  "metadata": {
    "colab": {
      "provenance": [],
      "collapsed_sections": []
    },
    "kernelspec": {
      "name": "python3",
      "display_name": "Python 3"
    },
    "language_info": {
      "name": "python"
    }
  },
  "cells": [
    {
      "cell_type": "markdown",
      "source": [
        "A função para decidir se é preciso trocar de caixa ou não é a seguinte:"
      ],
      "metadata": {
        "id": "k6vRXt_DAoE5"
      }
    },
    {
      "cell_type": "code",
      "execution_count": 127,
      "metadata": {
        "id": "YJ88J501AkM4"
      },
      "outputs": [],
      "source": [
        "# The probability to win will always be higher if the player switches boxes, unless there is only one box to be opened,\n",
        "# in which case, the remaining box is the one with the Apple Watch, but this is not a realistic scenario since the \n",
        "# player will be sure the watch is there.\n",
        "# Fore more information, watch https://www.youtube.com/watch?v=LIyg28vXQdQ\n",
        "\n",
        "def switch_boxes(total_boxes, open_boxes=0):\n",
        "\n",
        "  if (total_boxes < open_boxes + 2):\n",
        "    print(\"The game needs at least two closed boxes, one with the Apple Watch and one empty, to make sense.\")\n",
        "    return False\n",
        "  \n",
        "  p_win_before_open = 1 / total_boxes\n",
        "\n",
        "  p_win_if_switch_after_open = (total_boxes - 1) / (total_boxes * (total_boxes - open_boxes - 1))\n",
        "  \n",
        "  # if p_win_if_switch_after_open == p_win_before_open, probabilistically speaking it doesn't make any difference\n",
        "  # to switch the currently selected box or not. In this implementation, I decided to switch.\n",
        "  if p_win_if_switch_after_open >= p_win_before_open:\n",
        "    return True\n",
        "  return False\n"
      ]
    },
    {
      "cell_type": "markdown",
      "source": [
        "Acontece que o modelo matemático que descreve este problema se chama problema de **Monty Hall**, e de acordo com a sua solução, é sempre vantajoso trocar de caixa após uma ou mais caixas vazias serem reveladas. Vejamos alguns exemplos."
      ],
      "metadata": {
        "id": "ITUcb4FnA17a"
      }
    },
    {
      "cell_type": "code",
      "source": [
        "print(switch_boxes(7, 5))"
      ],
      "metadata": {
        "colab": {
          "base_uri": "https://localhost:8080/"
        },
        "id": "rFhEsFuZA6zu",
        "outputId": "b4f178f9-36c6-4efb-ae03-0247f7b096fb"
      },
      "execution_count": 128,
      "outputs": [
        {
          "output_type": "stream",
          "name": "stdout",
          "text": [
            "True\n"
          ]
        }
      ]
    },
    {
      "cell_type": "code",
      "source": [
        "print(switch_boxes(3, 1))"
      ],
      "metadata": {
        "colab": {
          "base_uri": "https://localhost:8080/"
        },
        "id": "uCCHZKbfBBlj",
        "outputId": "27fc09b7-bffb-491e-c455-5e148c2c6c34"
      },
      "execution_count": 129,
      "outputs": [
        {
          "output_type": "stream",
          "name": "stdout",
          "text": [
            "True\n"
          ]
        }
      ]
    },
    {
      "cell_type": "code",
      "source": [
        "print(switch_boxes(50, 1))"
      ],
      "metadata": {
        "colab": {
          "base_uri": "https://localhost:8080/"
        },
        "id": "twOotYz9BBrj",
        "outputId": "4ecc86cb-8fd5-4024-a8ce-afb0625101f3"
      },
      "execution_count": 130,
      "outputs": [
        {
          "output_type": "stream",
          "name": "stdout",
          "text": [
            "True\n"
          ]
        }
      ]
    },
    {
      "cell_type": "code",
      "source": [
        "print(switch_boxes(50, 48))"
      ],
      "metadata": {
        "colab": {
          "base_uri": "https://localhost:8080/"
        },
        "id": "TVRNP6NgBBxm",
        "outputId": "fa9cdd98-abcc-4224-86e6-951d3acd3755"
      },
      "execution_count": 131,
      "outputs": [
        {
          "output_type": "stream",
          "name": "stdout",
          "text": [
            "True\n"
          ]
        }
      ]
    },
    {
      "cell_type": "code",
      "source": [
        "print(switch_boxes(978787, 3574))"
      ],
      "metadata": {
        "colab": {
          "base_uri": "https://localhost:8080/"
        },
        "id": "oKh3PJttF3qQ",
        "outputId": "01d24972-896a-426d-ef67-319ae4716d86"
      },
      "execution_count": 132,
      "outputs": [
        {
          "output_type": "stream",
          "name": "stdout",
          "text": [
            "True\n"
          ]
        }
      ]
    },
    {
      "cell_type": "code",
      "source": [
        "print(switch_boxes(3, 0))"
      ],
      "metadata": {
        "colab": {
          "base_uri": "https://localhost:8080/"
        },
        "id": "crNsTQLuKOnJ",
        "outputId": "3c1a3e4a-2ac0-47bc-822b-97099d9c2e9f"
      },
      "execution_count": 133,
      "outputs": [
        {
          "output_type": "stream",
          "name": "stdout",
          "text": [
            "True\n"
          ]
        }
      ]
    },
    {
      "cell_type": "markdown",
      "source": [
        "Abaixo, segue um programa que simula um problema de Monty Hall iterativo. O jogador e o condutor do jogo alternam entre decidir trocar de caixa e revelar uma caixa vazia, respectivamente."
      ],
      "metadata": {
        "id": "3wR7KJcNBY2Q"
      }
    },
    {
      "cell_type": "markdown",
      "source": [
        "É possível variar o número de caixas (variável **number_of_boxes**) para executar simulações mais longas, mas como vimos na função passada, independente do número de caixas presentes no jogo e quantas já foram reveladas, é sempre probabilisticamente vantajoso mudar sua escolha de caixa após pelo menos uma caixa vazia ser revelada."
      ],
      "metadata": {
        "id": "J9Xw8I0FGkpl"
      }
    },
    {
      "cell_type": "code",
      "source": [
        "import sys\n",
        "import random\n",
        "\n",
        "random.seed()\n",
        "number_of_boxes = int(input(\"Number of boxes in the game: \"))\n",
        "\n",
        "# Generate random boxes contents\n",
        "boxes = [\"empty box\" for i in range(number_of_boxes - 1)] + [\"apple watch\"]\n",
        "\n",
        "# Shuffle boxes\n",
        "random.shuffle(boxes)\n",
        "print(\"Boxes (in position): {}\".format(boxes))\n",
        "\n",
        "# Player pick first box\n",
        "box_choice = random.randrange(number_of_boxes)\n",
        "print(\"First box selected by the player: {}\".format(box_choice))\n",
        "\n",
        "# Initialize common auxiliary variables\n",
        "apple_watch_position = boxes.index(\"apple watch\")\n",
        "print(\"Apple watch position: {}\".format(apple_watch_position))"
      ],
      "metadata": {
        "colab": {
          "base_uri": "https://localhost:8080/"
        },
        "id": "rkoAU6n8B56x",
        "outputId": "94f89d30-2c0d-4b0f-d7c0-d7bb999d6466"
      },
      "execution_count": 134,
      "outputs": [
        {
          "output_type": "stream",
          "name": "stdout",
          "text": [
            "Number of boxes in the game: 50\n",
            "Boxes (in position): ['empty box', 'empty box', 'empty box', 'apple watch', 'empty box', 'empty box', 'empty box', 'empty box', 'empty box', 'empty box', 'empty box', 'empty box', 'empty box', 'empty box', 'empty box', 'empty box', 'empty box', 'empty box', 'empty box', 'empty box', 'empty box', 'empty box', 'empty box', 'empty box', 'empty box', 'empty box', 'empty box', 'empty box', 'empty box', 'empty box', 'empty box', 'empty box', 'empty box', 'empty box', 'empty box', 'empty box', 'empty box', 'empty box', 'empty box', 'empty box', 'empty box', 'empty box', 'empty box', 'empty box', 'empty box', 'empty box', 'empty box', 'empty box', 'empty box', 'empty box']\n",
            "First box selected by the player: 41\n",
            "Apple watch position: 3\n"
          ]
        }
      ]
    },
    {
      "cell_type": "code",
      "source": [
        "# Slightly slower solution:\n",
        "# computing the next boxes to reveal and to swap to does require attempts, \n",
        "# but consumes less memory than the alternative with the available_boxes list\n",
        "# -----------------------------------------------------------------------------\n",
        "#\n",
        "# Initialize solution-specific auxiliary variables\n",
        "revealed_boxes = []\n",
        "box_to_reveal = random.randrange(number_of_boxes)\n",
        "box_to_swap = random.randrange(number_of_boxes)\n",
        "\n",
        "while len(revealed_boxes) < number_of_boxes - 2:\n",
        "\n",
        "  # Host reveals a random empty box\n",
        "  while box_to_reveal == box_choice or box_to_reveal in revealed_boxes or box_to_reveal == apple_watch_position:\n",
        "    box_to_reveal = random.randrange(number_of_boxes)\n",
        "\n",
        "  revealed_boxes.append(box_to_reveal)\n",
        "  print(\"Host revealed the empty box #{}\".format(box_to_reveal))\n",
        "\n",
        "  # Player swap to another random, unrevealed box\n",
        "  # According to the Monty Hall problem, a player should always switch boxes after the host reveals empty boxes.\n",
        "  # This if statement is here only to additionally illustrate this behavior (no matter how many times this \n",
        "  # code runs, or how many boxes we set on the number_of_boxes variable, the else block will never run).\n",
        "  if (switch_boxes(number_of_boxes, len(revealed_boxes))):\n",
        "    while box_to_swap == box_choice or box_to_swap in revealed_boxes:\n",
        "      box_to_swap = random.randrange(number_of_boxes)\n",
        "\n",
        "    box_choice = box_to_swap\n",
        "    print(\"Player swapped his/her box to #{}\".format(box_to_swap))\n",
        "  else:\n",
        "    print(\"Player did not swap boxes\")\n",
        "  \n",
        "if boxes[box_choice] == \"apple watch\":\n",
        "    print(\"You won the Apple Watch!\")\n",
        "else:\n",
        "    print(\"You won nothing.\")"
      ],
      "metadata": {
        "colab": {
          "base_uri": "https://localhost:8080/"
        },
        "id": "E8ItTFntD5e6",
        "outputId": "b8ff9a34-0f6d-478b-81b3-6466e60fc89f"
      },
      "execution_count": 135,
      "outputs": [
        {
          "output_type": "stream",
          "name": "stdout",
          "text": [
            "Host revealed the empty box #42\n",
            "Player swapped his/her box to #1\n",
            "Host revealed the empty box #38\n",
            "Player swapped his/her box to #9\n",
            "Host revealed the empty box #15\n",
            "Player swapped his/her box to #8\n",
            "Host revealed the empty box #7\n",
            "Player swapped his/her box to #20\n",
            "Host revealed the empty box #9\n",
            "Player swapped his/her box to #23\n",
            "Host revealed the empty box #34\n",
            "Player swapped his/her box to #26\n",
            "Host revealed the empty box #17\n",
            "Player swapped his/her box to #35\n",
            "Host revealed the empty box #25\n",
            "Player swapped his/her box to #16\n",
            "Host revealed the empty box #28\n",
            "Player swapped his/her box to #20\n",
            "Host revealed the empty box #29\n",
            "Player swapped his/her box to #22\n",
            "Host revealed the empty box #31\n",
            "Player swapped his/her box to #0\n",
            "Host revealed the empty box #5\n",
            "Player swapped his/her box to #49\n",
            "Host revealed the empty box #19\n",
            "Player swapped his/her box to #39\n",
            "Host revealed the empty box #8\n",
            "Player swapped his/her box to #22\n",
            "Host revealed the empty box #45\n",
            "Player swapped his/her box to #30\n",
            "Host revealed the empty box #21\n",
            "Player swapped his/her box to #43\n",
            "Host revealed the empty box #49\n",
            "Player swapped his/her box to #27\n",
            "Host revealed the empty box #13\n",
            "Player swapped his/her box to #41\n",
            "Host revealed the empty box #2\n",
            "Player swapped his/her box to #35\n",
            "Host revealed the empty box #32\n",
            "Player swapped his/her box to #18\n",
            "Host revealed the empty box #35\n",
            "Player swapped his/her box to #48\n",
            "Host revealed the empty box #4\n",
            "Player swapped his/her box to #14\n",
            "Host revealed the empty box #1\n",
            "Player swapped his/her box to #12\n",
            "Host revealed the empty box #20\n",
            "Player swapped his/her box to #46\n",
            "Host revealed the empty box #23\n",
            "Player swapped his/her box to #26\n",
            "Host revealed the empty box #39\n",
            "Player swapped his/her box to #36\n",
            "Host revealed the empty box #43\n",
            "Player swapped his/her box to #18\n",
            "Host revealed the empty box #14\n",
            "Player swapped his/her box to #26\n",
            "Host revealed the empty box #10\n",
            "Player swapped his/her box to #48\n",
            "Host revealed the empty box #22\n",
            "Player swapped his/her box to #11\n",
            "Host revealed the empty box #30\n",
            "Player swapped his/her box to #0\n",
            "Host revealed the empty box #12\n",
            "Player swapped his/her box to #41\n",
            "Host revealed the empty box #47\n",
            "Player swapped his/her box to #26\n",
            "Host revealed the empty box #6\n",
            "Player swapped his/her box to #18\n",
            "Host revealed the empty box #0\n",
            "Player swapped his/her box to #48\n",
            "Host revealed the empty box #36\n",
            "Player swapped his/her box to #33\n",
            "Host revealed the empty box #48\n",
            "Player swapped his/her box to #41\n",
            "Host revealed the empty box #16\n",
            "Player swapped his/her box to #24\n",
            "Host revealed the empty box #18\n",
            "Player swapped his/her box to #37\n",
            "Host revealed the empty box #41\n",
            "Player swapped his/her box to #33\n",
            "Host revealed the empty box #11\n",
            "Player swapped his/her box to #26\n",
            "Host revealed the empty box #44\n",
            "Player swapped his/her box to #46\n",
            "Host revealed the empty box #27\n",
            "Player swapped his/her box to #26\n",
            "Host revealed the empty box #46\n",
            "Player swapped his/her box to #24\n",
            "Host revealed the empty box #37\n",
            "Player swapped his/her box to #3\n",
            "Host revealed the empty box #24\n",
            "Player swapped his/her box to #33\n",
            "Host revealed the empty box #40\n",
            "Player swapped his/her box to #26\n",
            "Host revealed the empty box #33\n",
            "Player swapped his/her box to #3\n",
            "You won the Apple Watch!\n"
          ]
        }
      ]
    },
    {
      "cell_type": "markdown",
      "source": [
        "E uma versão em média um pouco mais rápida, mas que consome mais memória:\n",
        "\n"
      ],
      "metadata": {
        "id": "kdRqjZkfB6lo"
      }
    },
    {
      "cell_type": "code",
      "source": [
        "# Faster Solution:\n",
        "# computing the next boxes to reveal and to swap to does not require attempts, \n",
        "# but it consumes more memory because of the available_boxes list.\n",
        "# -----------------------------------------------------------------------------\n",
        "#\n",
        "# Initialize solution-specific auxiliary variables\n",
        "revealed_boxes = []\n",
        "available_boxes = [ i for i in range(len(boxes)) if i != apple_watch_position and i != box_choice ]\n",
        "\n",
        "while len(revealed_boxes) < number_of_boxes - 2:\n",
        "\n",
        "  # Host reveals a random empty box\n",
        "  box_to_reveal = random.choice(available_boxes)\n",
        "  revealed_boxes.append(box_to_reveal)\n",
        "  available_boxes.remove(box_to_reveal)\n",
        "\n",
        "  print(\"Host revealed the empty box #{}\".format(box_to_reveal))\n",
        "\n",
        "  # Player swap to another random, unrevealed box.\n",
        "  # According to the Monty Hall problem, a player should always switch boxes after the host reveals empty boxes\n",
        "  # This if statement is here only to additionally illustrate this behavior (no matter how many times this \n",
        "  # code runs, or how many boxes we set on the number_of_boxes variable, the else block will never run).\n",
        "  if (switch_boxes(number_of_boxes, len(revealed_boxes))):\n",
        "    box_to_swap = random.choice(available_boxes + [ apple_watch_position ])\n",
        "    \n",
        "    if box_choice != apple_watch_position:\n",
        "      available_boxes.append(box_choice)\n",
        "\n",
        "    if box_to_swap != apple_watch_position:\n",
        "      available_boxes.remove(box_to_swap)\n",
        "\n",
        "    box_choice = box_to_swap\n",
        "    print(\"Player swapped his/her box to #{}\".format(box_to_swap))\n",
        "  else:\n",
        "    print(\"Player did not swap boxes\")\n",
        "  \n",
        "if box_choice == apple_watch_position:\n",
        "    print(\"You won the Apple Watch!\")\n",
        "else:\n",
        "    print(\"You won nothing.\")\n"
      ],
      "metadata": {
        "colab": {
          "base_uri": "https://localhost:8080/"
        },
        "id": "C7iXgZYJCDol",
        "outputId": "b195f0a7-52f8-4181-e72e-29f69e81400e"
      },
      "execution_count": 136,
      "outputs": [
        {
          "output_type": "stream",
          "name": "stdout",
          "text": [
            "Host revealed the empty box #47\n",
            "Player swapped his/her box to #14\n",
            "Host revealed the empty box #5\n",
            "Player swapped his/her box to #0\n",
            "Host revealed the empty box #39\n",
            "Player swapped his/her box to #35\n",
            "Host revealed the empty box #27\n",
            "Player swapped his/her box to #33\n",
            "Host revealed the empty box #7\n",
            "Player swapped his/her box to #24\n",
            "Host revealed the empty box #49\n",
            "Player swapped his/her box to #4\n",
            "Host revealed the empty box #32\n",
            "Player swapped his/her box to #17\n",
            "Host revealed the empty box #15\n",
            "Player swapped his/her box to #3\n",
            "Host revealed the empty box #13\n",
            "Player swapped his/her box to #40\n",
            "Host revealed the empty box #43\n",
            "Player swapped his/her box to #48\n",
            "Host revealed the empty box #6\n",
            "Player swapped his/her box to #30\n",
            "Host revealed the empty box #22\n",
            "Player swapped his/her box to #25\n",
            "Host revealed the empty box #10\n",
            "Player swapped his/her box to #26\n",
            "Host revealed the empty box #2\n",
            "Player swapped his/her box to #20\n",
            "Host revealed the empty box #41\n",
            "Player swapped his/her box to #31\n",
            "Host revealed the empty box #44\n",
            "Player swapped his/her box to #29\n",
            "Host revealed the empty box #37\n",
            "Player swapped his/her box to #21\n",
            "Host revealed the empty box #40\n",
            "Player swapped his/her box to #23\n",
            "Host revealed the empty box #14\n",
            "Player swapped his/her box to #31\n",
            "Host revealed the empty box #29\n",
            "Player swapped his/her box to #16\n",
            "Host revealed the empty box #28\n",
            "Player swapped his/her box to #3\n",
            "Host revealed the empty box #16\n",
            "Player swapped his/her box to #45\n",
            "Host revealed the empty box #30\n",
            "Player swapped his/her box to #34\n",
            "Host revealed the empty box #48\n",
            "Player swapped his/her box to #17\n",
            "Host revealed the empty box #24\n",
            "Player swapped his/her box to #18\n",
            "Host revealed the empty box #20\n",
            "Player swapped his/her box to #17\n",
            "Host revealed the empty box #21\n",
            "Player swapped his/her box to #33\n",
            "Host revealed the empty box #8\n",
            "Player swapped his/her box to #38\n",
            "Host revealed the empty box #25\n",
            "Player swapped his/her box to #4\n",
            "Host revealed the empty box #45\n",
            "Player swapped his/her box to #3\n",
            "Host revealed the empty box #31\n",
            "Player swapped his/her box to #33\n",
            "Host revealed the empty box #9\n",
            "Player swapped his/her box to #35\n",
            "Host revealed the empty box #17\n",
            "Player swapped his/her box to #33\n",
            "Host revealed the empty box #42\n",
            "Player swapped his/her box to #34\n",
            "Host revealed the empty box #35\n",
            "Player swapped his/her box to #0\n",
            "Host revealed the empty box #18\n",
            "Player swapped his/her box to #38\n",
            "Host revealed the empty box #33\n",
            "Player swapped his/her box to #46\n",
            "Host revealed the empty box #19\n",
            "Player swapped his/her box to #1\n",
            "Host revealed the empty box #0\n",
            "Player swapped his/her box to #38\n",
            "Host revealed the empty box #1\n",
            "Player swapped his/her box to #36\n",
            "Host revealed the empty box #12\n",
            "Player swapped his/her box to #11\n",
            "Host revealed the empty box #38\n",
            "Player swapped his/her box to #23\n",
            "Host revealed the empty box #46\n",
            "Player swapped his/her box to #4\n",
            "Host revealed the empty box #23\n",
            "Player swapped his/her box to #36\n",
            "Host revealed the empty box #26\n",
            "Player swapped his/her box to #11\n",
            "Host revealed the empty box #34\n",
            "Player swapped his/her box to #36\n",
            "Host revealed the empty box #11\n",
            "Player swapped his/her box to #4\n",
            "Host revealed the empty box #36\n",
            "Player swapped his/her box to #3\n",
            "You won the Apple Watch!\n"
          ]
        }
      ]
    },
    {
      "cell_type": "markdown",
      "source": [
        "Por fim, como último experimento, avaliaremos o caso genérico, onde existem **n** caixas no jogo, e o condutor do jogo decide abrir **g** de uma vez. Para 1000 **n** e **g** diferentes e aleatórios, é possível observar que em todos é vantajoso trocar a caixa selecionada."
      ],
      "metadata": {
        "id": "Akuh9wTUEmOS"
      }
    },
    {
      "cell_type": "code",
      "source": [
        "def compute_random_scenario(max_number_of_boxes):\n",
        "  n = random.randrange(2, max_number_of_boxes + 1)\n",
        "  g = random.randrange(n - 1)\n",
        "  return switch_boxes(n, g)\n",
        "\n",
        "max_number_of_boxes = int(input(\"Maximum number of boxes in the game: \"))\n",
        "number_of_simulations = int(input(\"Number of simulations: \"))\n",
        "results = []\n",
        "\n",
        "for i in range(number_of_simulations):\n",
        "  results.append(compute_random_scenario(max_number_of_boxes))\n"
      ],
      "metadata": {
        "colab": {
          "base_uri": "https://localhost:8080/"
        },
        "id": "jNQgGyheE3ON",
        "outputId": "af327577-5fb5-4d3b-85ed-27bd7cb84d6d"
      },
      "execution_count": 137,
      "outputs": [
        {
          "name": "stdout",
          "output_type": "stream",
          "text": [
            "Maximum number of boxes in the game: 50\n",
            "Number of simulations: 1000\n"
          ]
        }
      ]
    },
    {
      "cell_type": "code",
      "source": [
        "list(filter(lambda result: result != True, results))"
      ],
      "metadata": {
        "colab": {
          "base_uri": "https://localhost:8080/"
        },
        "id": "KPG5YKrAMXOv",
        "outputId": "4e6ec3b9-20ce-46a2-8ccf-82f9e4c1856b"
      },
      "execution_count": 138,
      "outputs": [
        {
          "output_type": "execute_result",
          "data": {
            "text/plain": [
              "[]"
            ]
          },
          "metadata": {},
          "execution_count": 138
        }
      ]
    }
  ]
}