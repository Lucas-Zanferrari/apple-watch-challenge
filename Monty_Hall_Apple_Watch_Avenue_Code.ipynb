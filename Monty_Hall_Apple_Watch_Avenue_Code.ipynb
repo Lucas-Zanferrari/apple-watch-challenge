{
  "nbformat": 4,
  "nbformat_minor": 0,
  "metadata": {
    "colab": {
      "provenance": [],
      "collapsed_sections": []
    },
    "kernelspec": {
      "name": "python3",
      "display_name": "Python 3"
    },
    "language_info": {
      "name": "python"
    }
  },
  "cells": [
    {
      "cell_type": "markdown",
      "source": [
        "A função para decidir se é preciso trocar de caixa ou não é a seguinte:"
      ],
      "metadata": {
        "id": "k6vRXt_DAoE5"
      }
    },
    {
      "cell_type": "code",
      "execution_count": null,
      "metadata": {
        "id": "YJ88J501AkM4"
      },
      "outputs": [],
      "source": [
        "# The probability to win will always be higher if the player switches boxes, unless there is only one box to be opened,\n",
        "# in which case, the remaining box is the one with the Apple Watch, but this is not a realistic scenario since the \n",
        "# player will be sure the watch is there.\n",
        "# Fore more information, watch https://www.youtube.com/watch?v=LIyg28vXQdQ\n",
        "\n",
        "def switch_boxes(total_boxes, open_boxes=0):\n",
        "\n",
        "  if (total_boxes < open_boxes + 2):\n",
        "    print(\"The game needs at least two closed boxes, one with the Apple Watch and one empty, to make sense.\")\n",
        "    return False\n",
        "  \n",
        "  p_win_before_open = 1 / total_boxes\n",
        "\n",
        "  p_win_if_switch_after_open = (total_boxes - 1) / (total_boxes * (total_boxes - open_boxes - 1))\n",
        "  \n",
        "  # if p_win_if_switch_after_open == p_win_before_open, probabilistically speaking it doesn't make any difference\n",
        "  # to switch the currently selected box or not. In this implementation, I decided to switch.\n",
        "  if p_win_if_switch_after_open >= p_win_before_open:\n",
        "    return True\n",
        "  return False\n"
      ]
    },
    {
      "cell_type": "markdown",
      "source": [
        "Acontece que o modelo matemático que descreve este problema se chama problema de **Monty Hall**, e segundo sua solução, é sempre vantajoso trocar de caixa após uma ou mais caixas vazias serem reveladas. Vejamos alguns exemplos."
      ],
      "metadata": {
        "id": "ITUcb4FnA17a"
      }
    },
    {
      "cell_type": "code",
      "source": [
        "print(switch_boxes(7, 5))"
      ],
      "metadata": {
        "colab": {
          "base_uri": "https://localhost:8080/"
        },
        "id": "rFhEsFuZA6zu",
        "outputId": "baec8175-bae3-46c4-88c2-409c5b93c013"
      },
      "execution_count": null,
      "outputs": [
        {
          "output_type": "stream",
          "name": "stdout",
          "text": [
            "True\n"
          ]
        }
      ]
    },
    {
      "cell_type": "code",
      "source": [
        "print(switch_boxes(3, 1))"
      ],
      "metadata": {
        "colab": {
          "base_uri": "https://localhost:8080/"
        },
        "id": "uCCHZKbfBBlj",
        "outputId": "cead1a43-8b04-4839-bfb1-c0e5d47bcc86"
      },
      "execution_count": null,
      "outputs": [
        {
          "output_type": "stream",
          "name": "stdout",
          "text": [
            "True\n"
          ]
        }
      ]
    },
    {
      "cell_type": "code",
      "source": [
        "print(switch_boxes(50, 1))"
      ],
      "metadata": {
        "colab": {
          "base_uri": "https://localhost:8080/"
        },
        "id": "twOotYz9BBrj",
        "outputId": "e83c79a0-6507-4fc6-8ed1-37e7e705a96a"
      },
      "execution_count": null,
      "outputs": [
        {
          "output_type": "stream",
          "name": "stdout",
          "text": [
            "True\n"
          ]
        }
      ]
    },
    {
      "cell_type": "code",
      "source": [
        "print(switch_boxes(50, 48))"
      ],
      "metadata": {
        "colab": {
          "base_uri": "https://localhost:8080/"
        },
        "id": "TVRNP6NgBBxm",
        "outputId": "975ed88b-babb-4f24-fc40-1cd0e7b7857e"
      },
      "execution_count": null,
      "outputs": [
        {
          "output_type": "stream",
          "name": "stdout",
          "text": [
            "True\n"
          ]
        }
      ]
    },
    {
      "cell_type": "code",
      "source": [
        "print(switch_boxes(978787, 3574))"
      ],
      "metadata": {
        "colab": {
          "base_uri": "https://localhost:8080/"
        },
        "id": "oKh3PJttF3qQ",
        "outputId": "44cc26af-b71b-4c59-917b-09dcaf163928"
      },
      "execution_count": null,
      "outputs": [
        {
          "output_type": "stream",
          "name": "stdout",
          "text": [
            "True\n"
          ]
        }
      ]
    },
    {
      "cell_type": "code",
      "source": [
        "print(switch_boxes(3, 0))"
      ],
      "metadata": {
        "colab": {
          "base_uri": "https://localhost:8080/"
        },
        "id": "crNsTQLuKOnJ",
        "outputId": "33469cab-6d4b-4fa0-9563-c89f57998c96"
      },
      "execution_count": null,
      "outputs": [
        {
          "output_type": "stream",
          "name": "stdout",
          "text": [
            "True\n"
          ]
        }
      ]
    },
    {
      "cell_type": "markdown",
      "source": [
        "Abaixo, segue um programa que simula um problema de Monty Hall iterativo. O jogador e o condutor do jogo alternam entre decidir trocar de caixa e revelar uma caixa vazia, respectivamente."
      ],
      "metadata": {
        "id": "3wR7KJcNBY2Q"
      }
    },
    {
      "cell_type": "markdown",
      "source": [
        "É possível variar o número de caixas (variável **number_of_boxes**) para executar simulações mais longas, mas como vimos na função passada, independente do número de caixas presentes no jogo e quantas já foram reveladas, é sempre probabilisticamente vantajoso mudar sua escolha de caixa após pelo menos uma caixa vazia ser revelada."
      ],
      "metadata": {
        "id": "J9Xw8I0FGkpl"
      }
    },
    {
      "cell_type": "code",
      "source": [
        "import sys\n",
        "import random\n",
        "\n",
        "random.seed()\n",
        "number_of_boxes = int(input(\"Number of boxes in the game: \"))\n",
        "\n",
        "# Generate random boxes contents\n",
        "boxes = [\"empty box\" for i in range(number_of_boxes - 1)] + [\"apple watch\"]\n",
        "\n",
        "# Shuffle boxes\n",
        "random.shuffle(boxes)\n",
        "print(\"Boxes (in position): {}\".format(boxes))\n",
        "\n",
        "# Player pick first box\n",
        "box_choice = random.randrange(number_of_boxes)\n",
        "print(\"First box selected: {}\".format(box_choice))"
      ],
      "metadata": {
        "colab": {
          "base_uri": "https://localhost:8080/"
        },
        "id": "rkoAU6n8B56x",
        "outputId": "d62644cb-0fe5-454d-a5d4-d5d845a1e65e"
      },
      "execution_count": null,
      "outputs": [
        {
          "output_type": "stream",
          "name": "stdout",
          "text": [
            "Number of boxes in the game: 20\n",
            "Boxes (in position): ['empty box', 'empty box', 'empty box', 'empty box', 'empty box', 'empty box', 'empty box', 'empty box', 'empty box', 'empty box', 'apple watch', 'empty box', 'empty box', 'empty box', 'empty box', 'empty box', 'empty box', 'empty box', 'empty box', 'empty box']\n",
            "First box selected: 10\n"
          ]
        }
      ]
    },
    {
      "cell_type": "code",
      "source": [
        "# Slightly slower solution:\n",
        "# computing the next boxes to reveal and to swap to does require attempts, \n",
        "# but consumes less memory than the alternative with the available_boxes list\n",
        "# -----------------------------------------------------------------------------\n",
        "#\n",
        "# Initialize auxiliary variables\n",
        "apple_watch_position = boxes.index(\"apple watch\")\n",
        "revealed_boxes = []\n",
        "box_to_reveal = random.randrange(number_of_boxes)\n",
        "box_to_swap = random.randrange(number_of_boxes)\n",
        "\n",
        "while len(revealed_boxes) < number_of_boxes - 2:\n",
        "\n",
        "  # Host reveals a random empty box\n",
        "  while box_to_reveal == box_choice or box_to_reveal in revealed_boxes or box_to_reveal == apple_watch_position:\n",
        "    box_to_reveal = random.randrange(number_of_boxes)\n",
        "\n",
        "  revealed_boxes.append(box_to_reveal)\n",
        "  print(\"Empty box revelead: {}\".format(box_to_reveal))\n",
        "\n",
        "  # Player swap to another random, unrevealed box\n",
        "  # According to the Monty Hall problem, a player should always switch boxes after the host reveals empty boxes.\n",
        "  # This if statement is here only to additionally illustrate this behavior (no matter how many times this \n",
        "  # code runs, or how many boxes we set on the number_of_boxes variable, the else block will never run).\n",
        "  if (switch_boxes(number_of_boxes, len(revealed_boxes))):\n",
        "    while box_to_swap == box_choice or box_to_swap in revealed_boxes:\n",
        "      box_to_swap = random.randrange(number_of_boxes)\n",
        "\n",
        "    box_choice = box_to_swap\n",
        "    print(\"Box swapped to {}\".format(box_to_swap))\n",
        "  else:\n",
        "    print(\"Player did not swap boxes\")\n",
        "  \n",
        "if boxes[box_choice] == \"apple watch\":\n",
        "    print(\"You won the Apple Watch!\")\n",
        "else:\n",
        "    print(\"You won nothing.\")"
      ],
      "metadata": {
        "colab": {
          "base_uri": "https://localhost:8080/"
        },
        "id": "E8ItTFntD5e6",
        "outputId": "851a6489-8c19-4ee0-97da-097dbf17dbf2"
      },
      "execution_count": null,
      "outputs": [
        {
          "output_type": "stream",
          "name": "stdout",
          "text": [
            "Empty box revelead: 1\n",
            "Box swapped to 3\n",
            "Empty box revelead: 18\n",
            "Box swapped to 17\n",
            "Empty box revelead: 8\n",
            "Box swapped to 12\n",
            "Empty box revelead: 14\n",
            "Box swapped to 3\n",
            "Empty box revelead: 17\n",
            "Box swapped to 0\n",
            "Empty box revelead: 6\n",
            "Box swapped to 15\n",
            "Empty box revelead: 13\n",
            "Box swapped to 9\n",
            "Empty box revelead: 12\n",
            "Box swapped to 19\n",
            "Empty box revelead: 5\n",
            "Box swapped to 2\n",
            "Empty box revelead: 0\n",
            "Box swapped to 3\n",
            "Empty box revelead: 2\n",
            "Box swapped to 15\n",
            "Empty box revelead: 4\n",
            "Box swapped to 7\n",
            "Empty box revelead: 9\n",
            "Box swapped to 3\n",
            "Empty box revelead: 15\n",
            "Box swapped to 7\n",
            "Empty box revelead: 11\n",
            "Box swapped to 16\n",
            "Empty box revelead: 7\n",
            "Box swapped to 19\n",
            "Empty box revelead: 16\n",
            "Box swapped to 10\n",
            "Empty box revelead: 19\n",
            "Box swapped to 3\n",
            "You won nothing.\n"
          ]
        }
      ]
    },
    {
      "cell_type": "markdown",
      "source": [
        "E uma versão um pouco mais rápida, mas que consome mais memória:"
      ],
      "metadata": {
        "id": "kdRqjZkfB6lo"
      }
    },
    {
      "cell_type": "code",
      "source": [
        "# Faster Solution:\n",
        "# computing the next boxes to reveal and to swap to does not require attempts, \n",
        "# but it consumes more memory because of the available_boxes list.\n",
        "# -----------------------------------------------------------------------------\n",
        "#\n",
        "# Initialize auxiliary variables\n",
        "apple_watch_position = boxes.index(\"apple watch\")\n",
        "revealed_boxes = []\n",
        "available_boxes = [ i for i in range(len(boxes)) if i != apple_watch_position and i != box_choice ]\n",
        "\n",
        "while len(revealed_boxes) < number_of_boxes - 2:\n",
        "\n",
        "  # Host reveals a random empty box\n",
        "  box_to_reveal = random.choice(available_boxes)\n",
        "  revealed_boxes.append(box_to_reveal)\n",
        "  available_boxes.remove(box_to_reveal)\n",
        "\n",
        "  print(\"Empty box revelead: {}\".format(box_to_reveal))\n",
        "\n",
        "  # Player swap to another random, unrevealed box.\n",
        "  # According to the Monty Hall problem, a player should always switch boxes after the host reveals empty boxes\n",
        "  # This if statement is here only to additionally illustrate this behavior (no matter how many times this \n",
        "  # code runs, or how many boxes we set on the number_of_boxes variable, the else block will never run).\n",
        "  if (switch_boxes(number_of_boxes, len(revealed_boxes))):\n",
        "    box_to_swap = random.choice(available_boxes + [ apple_watch_position ])\n",
        "    \n",
        "    if box_choice != apple_watch_position:\n",
        "      available_boxes.append(box_choice)\n",
        "\n",
        "    if box_to_swap != apple_watch_position:\n",
        "      available_boxes.remove(box_to_swap)\n",
        "\n",
        "    box_choice = box_to_swap\n",
        "    print(\"Box swapped to {}\".format(box_to_swap))\n",
        "  else:\n",
        "    print(\"Player did not swap boxes\")\n",
        "  \n",
        "if box_choice == apple_watch_position:\n",
        "    print(\"You won the Apple Watch!\")\n",
        "else:\n",
        "    print(\"You won nothing.\")\n"
      ],
      "metadata": {
        "colab": {
          "base_uri": "https://localhost:8080/"
        },
        "id": "C7iXgZYJCDol",
        "outputId": "9e2d0e70-7e2b-4576-d1af-31095d26ed99"
      },
      "execution_count": null,
      "outputs": [
        {
          "output_type": "stream",
          "name": "stdout",
          "text": [
            "Empty box revelead: 15\n",
            "Box swapped to 7\n",
            "Empty box revelead: 14\n",
            "Box swapped to 8\n",
            "Empty box revelead: 12\n",
            "Box swapped to 10\n",
            "Empty box revelead: 0\n",
            "Box swapped to 16\n",
            "Empty box revelead: 17\n",
            "Box swapped to 19\n",
            "Empty box revelead: 1\n",
            "Box swapped to 16\n",
            "Empty box revelead: 5\n",
            "Box swapped to 9\n",
            "Empty box revelead: 2\n",
            "Box swapped to 4\n",
            "Empty box revelead: 6\n",
            "Box swapped to 19\n",
            "Empty box revelead: 16\n",
            "Box swapped to 18\n",
            "Empty box revelead: 11\n",
            "Box swapped to 19\n",
            "Empty box revelead: 3\n",
            "Box swapped to 8\n",
            "Empty box revelead: 7\n",
            "Box swapped to 18\n",
            "Empty box revelead: 13\n",
            "Box swapped to 9\n",
            "Empty box revelead: 19\n",
            "Box swapped to 10\n",
            "Empty box revelead: 9\n",
            "Box swapped to 10\n",
            "Empty box revelead: 18\n",
            "Box swapped to 4\n",
            "Empty box revelead: 8\n",
            "Box swapped to 10\n",
            "You won the Apple Watch!\n"
          ]
        }
      ]
    }
  ]
}